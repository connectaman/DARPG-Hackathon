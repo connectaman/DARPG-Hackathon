{
 "cells": [
  {
   "cell_type": "code",
   "execution_count": 1,
   "metadata": {},
   "outputs": [],
   "source": [
    "import sys\n",
    "sys.path.append(\"..\")"
   ]
  },
  {
   "cell_type": "code",
   "execution_count": 2,
   "metadata": {},
   "outputs": [
    {
     "name": "stderr",
     "output_type": "stream",
     "text": [
      "/home/codespace/.python/current/lib/python3.10/site-packages/tqdm/auto.py:21: TqdmWarning: IProgress not found. Please update jupyter and ipywidgets. See https://ipywidgets.readthedocs.io/en/stable/user_install.html\n",
      "  from .autonotebook import tqdm as notebook_tqdm\n"
     ]
    }
   ],
   "source": [
    "from src.extractor import PDFExtractor\n",
    "from src.chunker import Chunk\n",
    "from src.embedder import BGEEmbedder\n",
    "from src.retriever import DenseRetriever\n",
    "from src.schemas import Document\n",
    "from src.rag import ChatBot\n",
    "from openai import OpenAI\n",
    "import os"
   ]
  },
  {
   "cell_type": "code",
   "execution_count": 3,
   "metadata": {},
   "outputs": [
    {
     "name": "stderr",
     "output_type": "stream",
     "text": [
      "tokenizer_config.json: 100%|██████████| 366/366 [00:00<00:00, 1.80MB/s]\n",
      "vocab.txt: 100%|██████████| 232k/232k [00:00<00:00, 619kB/s]\n",
      "tokenizer.json: 100%|██████████| 711k/711k [00:00<00:00, 966kB/s]\n",
      "special_tokens_map.json: 100%|██████████| 125/125 [00:00<00:00, 218kB/s]\n",
      "config.json: 100%|██████████| 779/779 [00:00<00:00, 4.04MB/s]\n",
      "model.safetensors: 100%|██████████| 1.34G/1.34G [00:11<00:00, 117MB/s] \n"
     ]
    }
   ],
   "source": [
    "extractor = PDFExtractor(pdf_path=\"/workspaces/DARPG-Hackathon/data/pdf\")\n",
    "chunker = Chunk()\n",
    "bge = BGEEmbedder()\n",
    "dense = DenseRetriever(embedder=bge)\n",
    "client = OpenAI(api_key=os.getenv(\"OPENAI_API_KEY\",\"\"))\n",
    "chat = ChatBot(extractor=extractor,chunker=chunker,embedder=bge,retriever=dense,llm=client)"
   ]
  },
  {
   "cell_type": "code",
   "execution_count": 5,
   "metadata": {},
   "outputs": [
    {
     "data": {
      "text/plain": [
       "'The provided source does not contain specific information regarding the categories of grievances. For detailed information on grievance categories, please contact the Department of Administrative Reforms & Public Grievances directly. Here are the contact details:<br><br>- Email: jaya.dubey@nic.in (Ms. Jaya Dubey, Joint Secretary, Department of AR & PG, Sardar Patel Bhawan, Parliament Street, New Delhi - 110 001)<br>- Phone: (011) 23360208<br>- Fax: 011-23360352<br><br>For technical issues, you can email: cpgrams-darpg@nic.in<br><br>Please note that grievances sent by email will not be attended to or entertained. It is advised to lodge your grievance at http://pgportal.gov.in'"
      ]
     },
     "execution_count": 5,
     "metadata": {},
     "output_type": "execute_result"
    }
   ],
   "source": [
    "chat.run(\"What are the category of grievances?\")"
   ]
  },
  {
   "cell_type": "code",
   "execution_count": null,
   "metadata": {},
   "outputs": [],
   "source": []
  }
 ],
 "metadata": {
  "kernelspec": {
   "display_name": "Python 3",
   "language": "python",
   "name": "python3"
  },
  "language_info": {
   "codemirror_mode": {
    "name": "ipython",
    "version": 3
   },
   "file_extension": ".py",
   "mimetype": "text/x-python",
   "name": "python",
   "nbconvert_exporter": "python",
   "pygments_lexer": "ipython3",
   "version": "3.10.13"
  }
 },
 "nbformat": 4,
 "nbformat_minor": 2
}
